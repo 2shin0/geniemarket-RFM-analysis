{
 "cells": [
  {
   "cell_type": "markdown",
   "id": "f6c595fc",
   "metadata": {},
   "source": [
    "[RFM 분석의 3요소]\n",
    "- Recency: 얼마나 최근에 구매했는가 → 얼마나 최근에 판매했는가\n",
    "- Frequency: 얼마나 자주 구매했는가 → 얼마나 자주 판매했는가\n",
    "- Monetary: 얼마나 많이 지출했는가 → 얼마나 많이 판매했는가\n",
    "\n",
    "[RFM 분석의 분류]\n",
    "- 충성도(RFM의 종합적 고려)에 따른 분류\n",
    "- 구매 빈도(F)에 따른 분류\n",
    "- 지출금액(M)에 따른 분류\n",
    "- 이외에도 주관적으로 분류 기준 수립이 가능\n",
    "- 정해진 기준이 없어 자유롭게 분류 가능\n",
    "\n",
    "IMaRD 양식 준수: 이전 강의자료 참조\n",
    "- 적절한 도표 활용: 주요 내용 또는 강조할 내용은 도표가 필수\n",
    "- 비교, 분류는 수치형 데이터를 이용\n",
    "- 불명확한 데이터는 보고서에 넣지 않는다\n",
    "- 내 논리와 반하는 데이터는 기본적으로 넣지 않는다\n",
    "- 도표에 필요 없는 데이터는 삭제한다\n",
    "- 분석 결과는 재현성이 보장되어야 한다\n",
    "- 데이터 비교 기준 통일: 전처리 기준, 도표의 스케일 등\n",
    "- 데이터 분석 결과, 이상치를 고려해야 한다"
   ]
  },
  {
   "cell_type": "markdown",
   "id": "0346314a",
   "metadata": {},
   "source": [
    "[필수 분석]\n",
    "1. 입점 기업별 RFM 분석(3그룹) 진행\n",
    "\n",
    "2. 매출 시각화\n",
    "   a. 월별, 연도별 매출\n",
    "   b. 월별 순수익 (처리 상황, 할부기간 고려)\n",
    "\n",
    "3. 결제 방법에 따른 분석\n",
    "   a. 결제 방법과 결제금액의 연관성 분석\n",
    "   b. 결제방법은 맨 앞의 한가지만 사용한 것으로 간주\n",
    "\n",
    "[선택 분석]\n",
    "1. 매출 시각화 2\n",
    "   a. 최대 매출 상품 3종류 집계\n",
    "   b. 주문 연도에 따른 해당 상품의 매출 증감 분석\n",
    "\n",
    "2. 연관성 분석\n",
    "   a. 주문한 달과 판매금액의 상관관계 분석\n",
    "   ※ 연도의 변화는 무시한다\n",
    "\n",
    "해당 프로젝트는 정답을 상정하지 않았습니다\n",
    "필수 분석은 강의자료 참고만으로 해결할 수 있습니다\n",
    "코드의 복사, 검색 등을 허용합니다\n",
    "보고서에는 논리, 결과, 의견을 기재합니다\n",
    "코드를 포함해 분석 보고서 형태로 제출합니다"
   ]
  },
  {
   "cell_type": "code",
   "execution_count": null,
   "id": "c3f6f627",
   "metadata": {},
   "outputs": [],
   "source": [
    "!pip install statannot"
   ]
  },
  {
   "cell_type": "code",
   "execution_count": null,
   "id": "1ce22900",
   "metadata": {},
   "outputs": [],
   "source": [
    "import pandas as pd\n",
    "import seaborn as sns\n",
    "import matplotlib as mpl\n",
    "import matplotlib.pyplot as plt\n",
    "import numpy as np\n",
    "from scipy import stats\n",
    "import plotly.express as px\n",
    "import plotly.graph_objects as go\n",
    "from statannot import add_stat_annotation\n",
    "from datetime import datetime, timedelta\n",
    "\n",
    "mpl.rc('font', family='NanumGothic')   #한글 깨짐 현상 처리\n",
    "mpl.rc('axes', unicode_minus=False)   #마이너스 깨짐 현상 처리"
   ]
  },
  {
   "cell_type": "code",
   "execution_count": null,
   "id": "777eb4a2",
   "metadata": {},
   "outputs": [],
   "source": [
    "#데이터 불러오기\n",
    "\n",
    "df = pd.read_excel('미니프로젝트-쇼핑몰 실습데이터.xlsx')"
   ]
  },
  {
   "cell_type": "markdown",
   "id": "8a859294",
   "metadata": {},
   "source": [
    "전처리"
   ]
  },
  {
   "cell_type": "code",
   "execution_count": null,
   "id": "dc19662e",
   "metadata": {},
   "outputs": [],
   "source": [
    "# 업체명 결측치 확인\n",
    "df['업체명'].unique()"
   ]
  },
  {
   "cell_type": "code",
   "execution_count": null,
   "id": "36b100d4",
   "metadata": {},
   "outputs": [],
   "source": [
    "# 업체명 결측치 제거\n",
    "df2 = df.copy()\n",
    "df2 = df.dropna(subset = '업체명')"
   ]
  },
  {
   "cell_type": "code",
   "execution_count": null,
   "id": "c36d55cc",
   "metadata": {},
   "outputs": [],
   "source": [
    "# 업체명과 상품명에 후불이라는 정보 포함\n",
    "df2[df2['업체명']=='지니 태블릿(후불집행)']"
   ]
  },
  {
   "cell_type": "code",
   "execution_count": null,
   "id": "a1b0dffb",
   "metadata": {},
   "outputs": [],
   "source": [
    "# '지니 태블릿(후불집행)'의 '결제방법'을 모두 '후불'로 변경\n",
    "df3 = df2.copy()\n",
    "df3.loc[df3['업체명'] == '지니 태블릿(후불집행)', '결제방법'] = '후불'"
   ]
  },
  {
   "cell_type": "code",
   "execution_count": null,
   "id": "bbceb0bf",
   "metadata": {},
   "outputs": [],
   "source": [
    "# '지니 태블릿'과 '지니 태블릿(후불집행)'을 모두 '지니'로 바꾸기\n",
    "df3['업체명'] = df3['업체명'].replace({'지니 태블릿': '지니', '지니 태블릿(후불집행)': '지니'})\n",
    "\n",
    "# 결과 출력\n",
    "print(df3)"
   ]
  },
  {
   "cell_type": "code",
   "execution_count": null,
   "id": "6d71f4b4",
   "metadata": {},
   "outputs": [],
   "source": [
    "df[df['업체명'] == '지니'].shape   # 지니 업체명 증가한 것 확인 "
   ]
  },
  {
   "cell_type": "markdown",
   "id": "c7614fdf",
   "metadata": {},
   "source": [
    "상품명 전처리"
   ]
  },
  {
   "cell_type": "code",
   "execution_count": null,
   "id": "068bbe77",
   "metadata": {},
   "outputs": [],
   "source": [
    "# 상품명 결측치 확인\n",
    "df3[df3.상품명.isnull()]"
   ]
  },
  {
   "cell_type": "code",
   "execution_count": null,
   "id": "825b1ebd",
   "metadata": {},
   "outputs": [],
   "source": [
    "# 삭제\n",
    "df4 = df3.copy()\n",
    "df4 = df4.dropna(subset = '상품명')"
   ]
  },
  {
   "cell_type": "markdown",
   "id": "c8bf9874",
   "metadata": {},
   "source": [
    "결제방법 전처리"
   ]
  },
  {
   "cell_type": "code",
   "execution_count": null,
   "id": "1b764b13",
   "metadata": {},
   "outputs": [],
   "source": [
    "# 결측치 확인\n",
    "df4[df4.결제방법.isnull()]"
   ]
  },
  {
   "cell_type": "code",
   "execution_count": null,
   "id": "b575daa7",
   "metadata": {},
   "outputs": [],
   "source": [
    "# 삭제\n",
    "df5 = df4.copy()\n",
    "df5 = df5.dropna(subset = '결제방법')"
   ]
  },
  {
   "cell_type": "code",
   "execution_count": null,
   "id": "495b396e",
   "metadata": {},
   "outputs": [],
   "source": [
    "# 제조사 결측치 확인\n",
    "df5 = df4.copy()\n",
    "df5[df5.제조사.isnull()]"
   ]
  },
  {
   "cell_type": "code",
   "execution_count": null,
   "id": "97165c4c",
   "metadata": {},
   "outputs": [],
   "source": [
    "# 주문수량 0인 건 삭제\n",
    "df6 = df5.copy()\n",
    "df6 = df6[df6['주문수량'] != 0]"
   ]
  },
  {
   "cell_type": "code",
   "execution_count": null,
   "id": "fcf608d7",
   "metadata": {},
   "outputs": [],
   "source": [
    "# 판매금액이 0인 건 삭제\n",
    "df7 = df6.copy()\n",
    "df7 = df7[df7['판매금액'] != 0]"
   ]
  },
  {
   "cell_type": "markdown",
   "id": "30f328d4",
   "metadata": {},
   "source": [
    "제작문구 내역 처리"
   ]
  },
  {
   "cell_type": "code",
   "execution_count": null,
   "id": "c0685e39",
   "metadata": {},
   "outputs": [],
   "source": [
    "# 대부분이 결측치\n",
    "df7[df7['제작문구 내역'].isnull()]"
   ]
  },
  {
   "cell_type": "code",
   "execution_count": null,
   "id": "bed0b12f",
   "metadata": {},
   "outputs": [],
   "source": [
    "# 삭제\n",
    "df8 = df7.copy()\n",
    "df8.drop(['제작문구 내역'], axis = 1, inplace = True)"
   ]
  },
  {
   "cell_type": "markdown",
   "id": "6eaef53a",
   "metadata": {},
   "source": [
    "할부기간"
   ]
  },
  {
   "cell_type": "code",
   "execution_count": null,
   "id": "3351da75",
   "metadata": {},
   "outputs": [],
   "source": [
    "# 결측치 일시불로 변환\n",
    "df8.할부기간.unique()"
   ]
  },
  {
   "cell_type": "code",
   "execution_count": null,
   "id": "9b57fbc8",
   "metadata": {},
   "outputs": [],
   "source": [
    "df9 = df8.copy()\n",
    "df9['할부기간'] = df9['할부기간'].fillna('일시불')"
   ]
  },
  {
   "cell_type": "markdown",
   "id": "88020a69",
   "metadata": {},
   "source": [
    "결제방법"
   ]
  },
  {
   "cell_type": "code",
   "execution_count": null,
   "id": "186aca8d",
   "metadata": {},
   "outputs": [],
   "source": [
    "df9['결제방법'].unique()"
   ]
  },
  {
   "cell_type": "code",
   "execution_count": null,
   "id": "f4407476",
   "metadata": {},
   "outputs": [],
   "source": [
    "df9[df9['결제방법'] == '-'].처리상태.value_counts()"
   ]
  },
  {
   "cell_type": "code",
   "execution_count": null,
   "id": "dd4626a4",
   "metadata": {},
   "outputs": [],
   "source": [
    "# 결제방법이 '-' 인 경우 삭제\n",
    "df10 = df9.copy()\n",
    "df10 = df10[df10['결제방법'] != '-']"
   ]
  },
  {
   "cell_type": "code",
   "execution_count": null,
   "id": "047e8ee7",
   "metadata": {},
   "outputs": [],
   "source": [
    "# ' + 포'\n",
    "# 주 결제방법을 알 수 없으므로 '-'와 마찬가지로 삭제\n",
    "df11 = df10.copy()\n",
    "df11 = df11[df11['결제방법'] != ' + 포']"
   ]
  },
  {
   "cell_type": "code",
   "execution_count": null,
   "id": "59f269ed",
   "metadata": {},
   "outputs": [],
   "source": [
    "# 여러 결제 방법이 섞인 경우 첫 번째 결제 방법만 남기기\n",
    "\n",
    "df12 = df11.copy()\n",
    "df12['결제방법'] = df12['결제방법'].astype(str)\n",
    "df12['결제방법'] = df12['결제방법'].apply(lambda x: x.split(' + ')[0] if ' + ' in x else x)"
   ]
  },
  {
   "cell_type": "code",
   "execution_count": null,
   "id": "66f1b8da",
   "metadata": {},
   "outputs": [],
   "source": [
    "# 줄임말 늘리기\n",
    "\n",
    "df13 = df12.copy()\n",
    "df13.loc[df13['결제방법'] == '신', '결제방법'] = '신용카드'\n",
    "df13.loc[df13['결제방법'] == '적', '결제방법'] = '적립금'\n",
    "df13.loc[df13['결제방법'] == '후', '결제방법'] = '후불'\n",
    "df13.loc[df13['결제방법'] == '정', '결제방법'] = '정기결제'\n",
    "df13.loc[df13['결제방법'] == '현', '결제방법'] = '현금간편결제'\n",
    "df13.loc[df13['결제방법'] == '가', '결제방법'] = '가상계좌'\n",
    "df13.loc[df13['결제방법'] == '무', '결제방법'] = '무통장입금'\n",
    "df13.loc[df13['결제방법'] == '포', '결제방법'] = '포인트'\n",
    "df13.loc[df13['결제방법'] == '웰', '결제방법'] = '웰컴마일'"
   ]
  },
  {
   "cell_type": "markdown",
   "id": "b6191b9f",
   "metadata": {},
   "source": [
    "전처리 완료"
   ]
  },
  {
   "cell_type": "code",
   "execution_count": null,
   "id": "c53381d2",
   "metadata": {},
   "outputs": [],
   "source": [
    "df13.reset_index(drop=True)"
   ]
  },
  {
   "cell_type": "markdown",
   "id": "c2653643",
   "metadata": {},
   "source": [
    "1. 업체명으로 RFM 분석"
   ]
  },
  {
   "cell_type": "code",
   "execution_count": null,
   "id": "70587e6d",
   "metadata": {},
   "outputs": [],
   "source": [
    "#판매금액을 기준으로 정렬하여 상위 업체 추출\n",
    "상위업체 = df.groupby('업체명')['판매금액'].sum().reset_index()\n",
    "상위업체 = 상위업체.sort_values(by='판매금액', ascending=False)\n",
    "\n",
    "#판매금액이 많은 순으로 상위 3개 업체 출력\n",
    "상위업체추출 = 상위업체.head(3)\n",
    "print(상위업체추출)"
   ]
  },
  {
   "cell_type": "raw",
   "id": "137ab60c",
   "metadata": {},
   "source": [
    "지니, 다우기술, 천재태블릿에 대한 RFM 분석 진행하기로 결정"
   ]
  },
  {
   "cell_type": "raw",
   "id": "7cbdb6a2",
   "metadata": {},
   "source": [
    "[R분석]\n",
    "주문일자로 구분\n",
    "2022: 3점 부여\n",
    "2021: 2점 부여\n",
    "2020~2019: 1점 부여\n",
    "\n",
    "[F분석]\n",
    "주문량으로 구분\n",
    "100이상: 3점 부여\n",
    "50이상: 2점 부여\n",
    "50미만: 1점 부여\n",
    "\n",
    "[M분석]\n",
    "지출금액 분포로 구분\n",
    "75% 이상: 3점 부여\n",
    "50% 이상: 2점 부여\n",
    "50% 미만: 1점 부여"
   ]
  },
  {
   "cell_type": "markdown",
   "id": "dcc5b6cf",
   "metadata": {},
   "source": [
    "R분석"
   ]
  },
  {
   "cell_type": "code",
   "execution_count": null,
   "id": "073bdb53",
   "metadata": {},
   "outputs": [],
   "source": [
    "#주어진 데이터프레임에서 업체명이 '지니', '다우기술', '천재태블릿'에 해당하는 행만 추출\n",
    "selected_companies = ['지니', '다우기술', '천재태블릿']\n",
    "filtered_data = df[df['업체명'].isin(selected_companies)]\n",
    "\n",
    "#2019~2020 / 2021 / 2022 3그룹으로 분류\n",
    "df['월별'] = df['주문일자'].apply(lambda x:str(x).split('-')[1]) # 주문일자 월별 컬럼 추가\n",
    "df['연도별'] = df['주문일자'].apply(lambda x:str(x).split('-')[0]) # 주문일자 연도별 컬럼 추가\n",
    "\n",
    "df['연도별'].unique()"
   ]
  },
  {
   "cell_type": "code",
   "execution_count": null,
   "id": "7c16a8c8",
   "metadata": {
    "scrolled": true
   },
   "outputs": [],
   "source": [
    "def year(x):\n",
    "    if x == '2022':\n",
    "        return 3 # 가장 높은 점수 3점\n",
    "    elif x == '2021':\n",
    "        return 2 # 중간 점수 2점\n",
    "    else:\n",
    "        return 1 # 가장 낮은 점수 1점\n",
    "\n",
    "df['R그룹'] = df['연도별'].apply(lambda x:year(x))"
   ]
  },
  {
   "cell_type": "code",
   "execution_count": null,
   "id": "9c7f4ef3",
   "metadata": {},
   "outputs": [],
   "source": [
    "# 업체명과 R값\n",
    "r = ('지니', '다우기술', '천재태블릿')\n",
    "df['R'] = df['업체명'].apply(lambda x: x in r)\n",
    "df_r = df[df['R'] == True]\n",
    "\n",
    "# 파이차트 생성\n",
    "fig = px.pie(df_r, values='R그룹', names='업체명',\n",
    "             title='입점 기업별 R분석(3그룹)', color_discrete_sequence=['#ff9999', '#ffc000', '#8fd9b6'])\n",
    "\n",
    "# 레이아웃 수정\n",
    "fig.update_layout(\n",
    "    title=dict(text='입점 기업별 R분석(3그룹)', x=0.5),  # 제목 가운데로 이동\n",
    "    autosize=False,  # 자동 크기 조절 비활성화\n",
    "    width=600,       # 가로 크기\n",
    "    height=600       # 세로 크기\n",
    ")\n",
    "\n",
    "fig.show()"
   ]
  },
  {
   "cell_type": "markdown",
   "id": "a5a1bd01",
   "metadata": {},
   "source": [
    "F분석"
   ]
  },
  {
   "cell_type": "code",
   "execution_count": null,
   "id": "b3d599c7",
   "metadata": {},
   "outputs": [],
   "source": [
    "#주어진 데이터프레임에서 업체명이 '지니', '다우기술', '천재태블릿'에 해당하는 행만 추출\n",
    "F그룹 = ['지니', '다우기술', '천재태블릿']\n",
    "filtered_data = df[df['업체명'].isin(selected_companies)]\n",
    "\n",
    "df['주문수량'] = df['주문수량'].apply(lambda x:str(x).split(',')[0])\n",
    "df['주문수량'] = df['주문수량'].apply(lambda x:int(x))\n",
    "\n",
    "df['주문수량'].unique()"
   ]
  },
  {
   "cell_type": "code",
   "execution_count": null,
   "id": "fdf7a024",
   "metadata": {},
   "outputs": [],
   "source": [
    "def fre(x):\n",
    "    if x > 100:\n",
    "        return 3 # 가장 높은 점수 3점\n",
    "    elif x > 50:\n",
    "        return 2 # 중간 점수 2점\n",
    "    else:\n",
    "        return 1 # 가장 낮은 점수 1점\n",
    "    \n",
    "df['F그룹'] = df['주문수량'].apply(lambda x:fre(x))"
   ]
  },
  {
   "cell_type": "code",
   "execution_count": null,
   "id": "d68847a8",
   "metadata": {},
   "outputs": [],
   "source": [
    "# 업체명과 F값\n",
    "r = ('지니', '다우기술', '천재태블릿')\n",
    "df['F'] = df['업체명'].apply(lambda x: x in r)\n",
    "df_r = df[df['F'] == True]\n",
    "\n",
    "# 파이차트 생성\n",
    "fig = px.pie(df_r, values='F그룹', names='업체명',\n",
    "             title='입점 기업별 F분석(3그룹)', color_discrete_sequence=['#ff9999', '#ffc000', '#8fd9b6'])\n",
    "\n",
    "# 레이아웃 수정\n",
    "fig.update_layout(\n",
    "    title=dict(text='입점 기업별 F분석(3그룹)', x=0.5),  # 제목 가운데로 이동\n",
    "    autosize=False,  # 자동 크기 조절 비활성화\n",
    "    width=600,       # 가로 크기\n",
    "    height=600       # 세로 크기\n",
    ")\n",
    "\n",
    "fig.show()"
   ]
  },
  {
   "cell_type": "markdown",
   "id": "dfeb66a0",
   "metadata": {},
   "source": [
    "M분석"
   ]
  },
  {
   "cell_type": "code",
   "execution_count": null,
   "id": "681544f1",
   "metadata": {},
   "outputs": [],
   "source": [
    "# 주문수량, 판매금액 데이터 인트형으로 변환\n",
    "df['판매금액'] = df['판매금액'].astype(str).str.replace(',', '').astype(int)\n",
    "df['주문수량'] = df['주문수량'].astype(str).str.replace(',', '').astype(int)\n",
    "\n",
    "df['매출'] = df['주문수량'] * df['판매금액']\n",
    "\n",
    "# 업체명이 '지니', '다우기술', '천재태블릿'에 해당하는 행만 추출\n",
    "selected_companies = ['지니', '다우기술', '천재태블릿']\n",
    "filtered_data = df[df['업체명'].isin(selected_companies)]"
   ]
  },
  {
   "cell_type": "code",
   "execution_count": null,
   "id": "62fe5402",
   "metadata": {},
   "outputs": [],
   "source": [
    "df['판매금액'].describe()"
   ]
  },
  {
   "cell_type": "code",
   "execution_count": null,
   "id": "3bb02889",
   "metadata": {},
   "outputs": [],
   "source": [
    "def pay(x):\n",
    "    if x > 2.790000e+04:\n",
    "        return 3 # 가장 높은 점수 3점\n",
    "    elif x > 9.600000e+03:\n",
    "        return 2 # 중간 점수 2점\n",
    "    else:\n",
    "        return 1 # 가장 낮은 점수 1점"
   ]
  },
  {
   "cell_type": "code",
   "execution_count": null,
   "id": "8f756c2e",
   "metadata": {},
   "outputs": [],
   "source": [
    "df['M그룹'] = df['판매금액'].apply(lambda x:pay(x))"
   ]
  },
  {
   "cell_type": "code",
   "execution_count": null,
   "id": "c811a8ba",
   "metadata": {},
   "outputs": [],
   "source": [
    "# 업체명과 M값\n",
    "r = ('지니', '다우기술', '천재태블릿')\n",
    "df['M'] = df['업체명'].apply(lambda x: x in r)\n",
    "df_r = df[df['M'] == True]\n",
    "\n",
    "# 파이차트 생성\n",
    "fig = px.pie(df_r, values='M그룹', names='업체명',\n",
    "             title='입점 기업별 M분석(3그룹)', color_discrete_sequence=['#ff9999', '#ffc000', '#8fd9b6'])\n",
    "\n",
    "# 레이아웃 수정\n",
    "fig.update_layout(\n",
    "    title=dict(text='입점 기업별 M분석(3그룹)', x=0.5),  # 제목 가운데로 이동\n",
    "    autosize=False,  # 자동 크기 조절 비활성화\n",
    "    width=600,       # 가로 크기\n",
    "    height=600       # 세로 크기\n",
    ")\n",
    "\n",
    "fig.show()"
   ]
  },
  {
   "cell_type": "markdown",
   "id": "f6238fce",
   "metadata": {},
   "source": [
    "2. 매출 시각화\n",
    "   a. 월별, 연도별 매출"
   ]
  },
  {
   "cell_type": "code",
   "execution_count": null,
   "id": "23ecbd41",
   "metadata": {},
   "outputs": [],
   "source": [
    "# '주문일자'를 datetime type으로 변환\n",
    "df['주문일자'] = pd.to_datetime(df['주문일자'])\n",
    "\n",
    "# '주문일자'에서 년도 추출\n",
    "df['년도'] = df['주문일자'].dt.year\n",
    "\n",
    "# '년도'끼리 묶고 각 년도의 판매금액 총합 구하기\n",
    "df20 = total_sales_by_year = df.groupby('년도')['판매금액'].sum().reset_index()\n",
    "\n",
    "print(total_sales_by_year)"
   ]
  },
  {
   "cell_type": "code",
   "execution_count": null,
   "id": "272e0338",
   "metadata": {},
   "outputs": [],
   "source": [
    "plt.rcParams['font.family'] = 'Malgun Gothic'\n",
    "\n",
    "# 시각화\n",
    "plt.figure(figsize=(10, 6))\n",
    "\n",
    "# 선 그래프 그리기\n",
    "plt.figure(figsize=(10, 6))\n",
    "\n",
    "# 선 그래프 그리기\n",
    "sns.lineplot(data=total_sales_by_year, x='년도', y='판매금액', marker='o', color='skyblue', linewidth=2)\n",
    "\n",
    "# 그래프 스타일 설정\n",
    "sns.set(style=\"whitegrid\")\n",
    "\n",
    "# x축, y축 레이블 설정\n",
    "plt.title('연도별 매출', fontsize=16)\n",
    "plt.xlabel('년도', fontsize=14)\n",
    "plt.ylabel('총 판매금액', fontsize=14)\n",
    "\n",
    "# x축 값 설정\n",
    "plt.xticks(total_sales_by_year['년도'])\n",
    "\n",
    "# 그리드 눈금선 추가\n",
    "plt.grid(True, linestyle='--', alpha=0.7)\n",
    "\n",
    "# 그래프에 값 표시\n",
    "\n",
    "plt.show()"
   ]
  },
  {
   "cell_type": "code",
   "execution_count": null,
   "id": "89ed9af6",
   "metadata": {},
   "outputs": [],
   "source": [
    "#'월' 열을 추출\n",
    "df['월'] = df['주문일자'].dt.month\n",
    "\n",
    "#'월'을 기준으로 그룹화하고 판매금액을 합산\n",
    "total_sales_by_month = df.groupby(['월'])['판매금액'].sum().reset_index()\n",
    "\n",
    "# 결과 출력\n",
    "print(total_sales_by_month)"
   ]
  },
  {
   "cell_type": "code",
   "execution_count": null,
   "id": "f077de3b",
   "metadata": {},
   "outputs": [],
   "source": [
    "from matplotlib.ticker import MaxNLocator  # Import MaxNLocator\n",
    "plt.rcParams['font.family'] = 'Malgun Gothic'\n",
    "\n",
    "# 시각화\n",
    "plt.figure(figsize=(10, 6))\n",
    "\n",
    "# 선 그래프 그리기\n",
    "sns.lineplot(data=total_sales_by_month, x='월', y='판매금액', marker='o', color='skyblue')\n",
    "\n",
    "# 그래프 스타일 설정\n",
    "sns.set(style=\"whitegrid\")\n",
    "\n",
    "# x축, y축 레이블 설정\n",
    "plt.title('월별 매출')\n",
    "plt.xlabel('월')\n",
    "plt.ylabel('총 판매금액')\n",
    "\n",
    "# 그리드 눈금선 추가\n",
    "plt.grid(True, linestyle='--', alpha=0.7)\n",
    "\n",
    "# x축 간격을 1로 설정\n",
    "plt.xticks(range(1, 13))  # x축의 눈금을 1부터 12까지의 정수로 설정\n",
    "\n",
    "plt.show()"
   ]
  },
  {
   "cell_type": "markdown",
   "id": "2098f1f9",
   "metadata": {},
   "source": [
    "   b. 월별 순수익(처리 상황 고려)"
   ]
  },
  {
   "cell_type": "code",
   "execution_count": null,
   "id": "43401bb5",
   "metadata": {},
   "outputs": [],
   "source": [
    "df['처리상태'].unique() "
   ]
  },
  {
   "cell_type": "code",
   "execution_count": null,
   "id": "dd977646",
   "metadata": {},
   "outputs": [],
   "source": [
    "a = ('구매확정')\n",
    "df['구매'] = df['처리상태'].apply(lambda x:x in a)\n",
    "df14 = df[df['구매'] == True]"
   ]
  },
  {
   "cell_type": "code",
   "execution_count": null,
   "id": "0c4c6926",
   "metadata": {},
   "outputs": [],
   "source": [
    "sns.lineplot(data=df14, x='월별', y='매출')\n",
    "\n",
    "plt.show()"
   ]
  },
  {
   "cell_type": "markdown",
   "id": "19072a7a",
   "metadata": {},
   "source": [
    "   b. 월별 순수익(처리 상황+할부기간 고려)"
   ]
  },
  {
   "cell_type": "code",
   "execution_count": null,
   "id": "bd9583a5",
   "metadata": {},
   "outputs": [],
   "source": [
    "shop = df13.copy().reset_index(drop = True)"
   ]
  },
  {
   "cell_type": "code",
   "execution_count": null,
   "id": "d1f7e831",
   "metadata": {},
   "outputs": [],
   "source": [
    "shop_full = shop[shop['할부기간'] == '일시불'] # 일시불 df"
   ]
  },
  {
   "cell_type": "code",
   "execution_count": null,
   "id": "7f49f3be",
   "metadata": {},
   "outputs": [],
   "source": [
    "shop_fullym = shop_full.copy()\n",
    "shop_fullym['주문일자(연월)'] = shop_full['주문일자'].dt.strftime('%Y-%m') # 연도-월 추출"
   ]
  },
  {
   "cell_type": "code",
   "execution_count": null,
   "id": "681212f1",
   "metadata": {},
   "outputs": [],
   "source": [
    "shop_fullym1 = shop_fullym.copy()\n",
    "shop_fullym1 = shop_fullym[['주문일자(연월)','판매금액']] # 연월 컬럼과 판매금액 컬럼만 따로 저장"
   ]
  },
  {
   "cell_type": "code",
   "execution_count": null,
   "id": "fbf37848",
   "metadata": {},
   "outputs": [],
   "source": [
    "shop_fullym2 = shop_fullym1.groupby(['주문일자(연월)'], as_index=False).sum() # 연월 컬럼 그룹으로 묶어 판매금액 합산"
   ]
  },
  {
   "cell_type": "code",
   "execution_count": null,
   "id": "ced871bb",
   "metadata": {},
   "outputs": [],
   "source": [
    "shop_fullym2['주문일자(연월)'] = pd.to_datetime(shop_fullym2['주문일자(연월)']) # 연월 컬럼을 다시 날짜 형식으로"
   ]
  },
  {
   "cell_type": "code",
   "execution_count": null,
   "id": "ea8adb5b",
   "metadata": {},
   "outputs": [],
   "source": [
    "shop_fullym3 = shop_fullym2.set_index('주문일자(연월)') # 연월 컬럼을 인덱스로"
   ]
  },
  {
   "cell_type": "code",
   "execution_count": null,
   "id": "545981a8",
   "metadata": {},
   "outputs": [],
   "source": [
    "shop_fullym3.head() # 결과 확인"
   ]
  },
  {
   "cell_type": "markdown",
   "id": "bfa95e56",
   "metadata": {},
   "source": [
    "반복"
   ]
  },
  {
   "cell_type": "code",
   "execution_count": null,
   "id": "2eeeddde",
   "metadata": {},
   "outputs": [],
   "source": [
    "# 할부 24개월\n",
    "shop_24 = shop[shop['할부기간'] == '24개월']"
   ]
  },
  {
   "cell_type": "code",
   "execution_count": null,
   "id": "0d890b93",
   "metadata": {},
   "outputs": [],
   "source": [
    "shop_24ym = shop_24.copy()\n",
    "shop_24ym['주문일자(연월)'] = shop_24['주문일자'].dt.strftime('%Y-%m')\n",
    "shop_24ym1 = shop_24ym.copy()\n",
    "shop_24ym1 = shop_24ym[['주문일자(연월)','판매금액']]\n",
    "shop_24ym2 = shop_24ym1.groupby(['주문일자(연월)'], as_index=False).sum()\n",
    "shop_24ym2['주문일자(연월)'] = pd.to_datetime(shop_24ym2['주문일자(연월)'])\n",
    "shop_24ym3 = shop_24ym2.set_index('주문일자(연월)')\n",
    "shop_24ym4 = shop_24ym3.copy()\n",
    "shop_24ym4.head()"
   ]
  },
  {
   "cell_type": "code",
   "execution_count": null,
   "id": "a83378bf",
   "metadata": {},
   "outputs": [],
   "source": [
    "# 할부 18개월\n",
    "shop_18 = shop[shop['할부기간'] == '18개월']"
   ]
  },
  {
   "cell_type": "code",
   "execution_count": null,
   "id": "4dc5d9a4",
   "metadata": {},
   "outputs": [],
   "source": [
    "shop_18ym = shop_18.copy()\n",
    "shop_18ym['주문일자(연월)'] = shop_18['주문일자'].dt.strftime('%Y-%m')\n",
    "shop_18ym1 = shop_18ym.copy()\n",
    "shop_18ym1 = shop_18ym[['주문일자(연월)','판매금액']]\n",
    "shop_18ym2 = shop_18ym1.groupby(['주문일자(연월)'], as_index=False).sum()\n",
    "shop_18ym2['주문일자(연월)'] = pd.to_datetime(shop_18ym2['주문일자(연월)'])\n",
    "shop_18ym3 = shop_18ym2.set_index('주문일자(연월)')\n",
    "shop_18ym4 = shop_18ym3.copy()\n",
    "shop_18ym4.head()"
   ]
  },
  {
   "cell_type": "code",
   "execution_count": null,
   "id": "94fd3e28",
   "metadata": {},
   "outputs": [],
   "source": [
    "# 할부 12개월\n",
    "shop_12 = shop[shop['할부기간'] == '12개월']"
   ]
  },
  {
   "cell_type": "code",
   "execution_count": null,
   "id": "539e1fab",
   "metadata": {},
   "outputs": [],
   "source": [
    "shop_12ym = shop_12.copy()\n",
    "shop_12ym['주문일자(연월)'] = shop_12['주문일자'].dt.strftime('%Y-%m')\n",
    "shop_12ym1 = shop_12ym.copy()\n",
    "shop_12ym1 = shop_12ym[['주문일자(연월)','판매금액']]\n",
    "shop_12ym2 = shop_12ym1.groupby(['주문일자(연월)'], as_index=False).sum()\n",
    "shop_12ym2\n",
    "shop_12ym2['주문일자(연월)'] = pd.to_datetime(shop_12ym2['주문일자(연월)'])\n",
    "shop_12ym3 = shop_12ym2.set_index('주문일자(연월)')\n",
    "shop_12ym4 = shop_12ym3.copy()\n",
    "shop_12ym4.head()"
   ]
  },
  {
   "cell_type": "code",
   "execution_count": null,
   "id": "3bae76c7",
   "metadata": {},
   "outputs": [],
   "source": [
    "# 할부 6개월\n",
    "shop_6 = shop[shop['할부기간'] == '6개월']"
   ]
  },
  {
   "cell_type": "code",
   "execution_count": null,
   "id": "ceea5b61",
   "metadata": {},
   "outputs": [],
   "source": [
    "shop_6ym = shop_6.copy()\n",
    "shop_6ym['주문일자(연월)'] = shop_6['주문일자'].dt.strftime('%Y-%m')\n",
    "shop_6ym1 = shop_6ym.copy()\n",
    "shop_6ym1 = shop_6ym[['주문일자(연월)','판매금액']]\n",
    "shop_6ym2 = shop_6ym1.groupby(['주문일자(연월)'], as_index=False).sum()\n",
    "shop_6ym2\n",
    "shop_6ym2['주문일자(연월)'] = pd.to_datetime(shop_6ym2['주문일자(연월)'])\n",
    "shop_6ym3 = shop_6ym2.set_index('주문일자(연월)')\n",
    "shop_6ym4 = shop_6ym3.copy()\n",
    "shop_6ym4.head()"
   ]
  },
  {
   "cell_type": "code",
   "execution_count": null,
   "id": "f4f246bd",
   "metadata": {},
   "outputs": [],
   "source": [
    "# 할부 1개월\n",
    "shop_1m = shop[shop['할부기간'] == '1개월']"
   ]
  },
  {
   "cell_type": "code",
   "execution_count": null,
   "id": "94fa0e35",
   "metadata": {},
   "outputs": [],
   "source": [
    "shop_1mym = shop_1m.copy()\n",
    "shop_1mym['주문일자(연월)'] = shop_1m['주문일자'].dt.strftime('%Y-%m')\n",
    "shop_1mym1 = shop_1mym.copy()\n",
    "shop_1mym1 = shop_1mym[['주문일자(연월)','판매금액']]\n",
    "shop_1mym2 = shop_1mym1.groupby(['주문일자(연월)'], as_index=False).sum()\n",
    "shop_1mym2\n",
    "shop_1mym2['주문일자(연월)'] = pd.to_datetime(shop_1mym2['주문일자(연월)'])\n",
    "shop_1mym3 = shop_1mym2.set_index('주문일자(연월)')\n",
    "shop_1mym4 = shop_1mym3.copy()\n",
    "shop_1mym4.head()"
   ]
  },
  {
   "cell_type": "code",
   "execution_count": null,
   "id": "8fd582fe",
   "metadata": {},
   "outputs": [],
   "source": [
    "#판매금액을 각 할부개월로 나눈 뒤 1달씩 더해가며 할부개월 수 만큼 일시불 df에 더하기\n",
    "\n",
    "def installment24(y):\n",
    "    global shop_fullym3 # -> 일시불 df\n",
    "    shop_24ym4['판매금액'] /= y # 판매금액을 할부개월수로 나눔\n",
    "    for i in range(1, y + 1): # 할부개월 수 만큼 반복\n",
    "        # 1달씩 더함. timedelta에 달을 더하는 기능이 없어 31일로 대체.며칠 씩 더 더해도 2년 안에 한 달이 바뀌지는 않음.\n",
    "        shop_24ym4.index = pd.DatetimeIndex(shop_24ym4.index) + timedelta(days=31)\n",
    "        shop_fullym3 = shop_fullym3.add(shop_24ym4, fill_value=0) # 일시불 df에 더함."
   ]
  },
  {
   "cell_type": "code",
   "execution_count": null,
   "id": "4518e9bb",
   "metadata": {},
   "outputs": [],
   "source": [
    "installment24(24)"
   ]
  },
  {
   "cell_type": "code",
   "execution_count": null,
   "id": "100070e3",
   "metadata": {},
   "outputs": [],
   "source": [
    "# 반복\n",
    "def installment18(y):\n",
    "    global shop_fullym3\n",
    "    shop_18ym4['판매금액'] /= y\n",
    "    for i in range(1, y + 1):\n",
    "        shop_18ym4.index = pd.DatetimeIndex(shop_18ym4.index) + timedelta(days=31)\n",
    "        shop_fullym3 = shop_fullym3.add(shop_18ym4, fill_value=0)"
   ]
  },
  {
   "cell_type": "code",
   "execution_count": null,
   "id": "3b206ba7",
   "metadata": {},
   "outputs": [],
   "source": [
    "installment18(18)"
   ]
  },
  {
   "cell_type": "code",
   "execution_count": null,
   "id": "d5f72d70",
   "metadata": {},
   "outputs": [],
   "source": [
    "def installment12(y):\n",
    "    global shop_fullym3\n",
    "    shop_12ym4['판매금액'] /= y\n",
    "    for i in range(1, y + 1):\n",
    "        shop_12ym4.index = pd.DatetimeIndex(shop_12ym4.index) + timedelta(days=31)\n",
    "        shop_fullym3 = shop_fullym3.add(shop_12ym4, fill_value=0)"
   ]
  },
  {
   "cell_type": "code",
   "execution_count": null,
   "id": "ba123a44",
   "metadata": {},
   "outputs": [],
   "source": [
    "installment12(12)"
   ]
  },
  {
   "cell_type": "code",
   "execution_count": null,
   "id": "6b4d58f8",
   "metadata": {},
   "outputs": [],
   "source": [
    "def installment6(y):\n",
    "    global shop_fullym3\n",
    "    shop_6ym4['판매금액'] /= y\n",
    "    for i in range(1, y + 1):\n",
    "        shop_6ym4.index = pd.DatetimeIndex(shop_6ym4.index) + timedelta(days=31)\n",
    "        shop_fullym3 = shop_fullym3.add(shop_6ym4, fill_value=0)"
   ]
  },
  {
   "cell_type": "code",
   "execution_count": null,
   "id": "8a6a88d8",
   "metadata": {},
   "outputs": [],
   "source": [
    "installment6(6)"
   ]
  },
  {
   "cell_type": "code",
   "execution_count": null,
   "id": "095c9dd1",
   "metadata": {},
   "outputs": [],
   "source": [
    "def installment1m(y):\n",
    "    global shop_fullym3\n",
    "    shop_1mym4['판매금액'] /= y\n",
    "    for i in range(1, y + 1):\n",
    "        shop_1mym4.index = pd.DatetimeIndex(shop_1mym4.index) + timedelta(days=31)\n",
    "        shop_fullym3 = shop_fullym3.add(shop_1mym4, fill_value=0)"
   ]
  },
  {
   "cell_type": "code",
   "execution_count": null,
   "id": "08f8baba",
   "metadata": {},
   "outputs": [],
   "source": [
    "installment1m(1)"
   ]
  },
  {
   "cell_type": "code",
   "execution_count": null,
   "id": "413b5216",
   "metadata": {},
   "outputs": [],
   "source": [
    "# 할부금이 각 달에 배정된 총 판매금액\n",
    "shop_install = shop_fullym3.reset_index(drop=False)\n",
    "shop_install"
   ]
  },
  {
   "cell_type": "code",
   "execution_count": null,
   "id": "843f264e",
   "metadata": {},
   "outputs": [],
   "source": [
    "# 2022년 11월 이후 지우기\n",
    "shop_install2 = shop_install[shop_install['주문일자(연월)'] < '2022-12-01']"
   ]
  },
  {
   "cell_type": "code",
   "execution_count": null,
   "id": "06f35bd6",
   "metadata": {},
   "outputs": [],
   "source": [
    "# '주문일자(연월)' 열을 datetime 형식으로 변환\n",
    "shop_install2['주문일자(연월)'] = pd.to_datetime(shop_install2['주문일자(연월)'])"
   ]
  },
  {
   "cell_type": "code",
   "execution_count": null,
   "id": "41a00b98",
   "metadata": {},
   "outputs": [],
   "source": [
    "# 'day'를 제외하고 'month' 열을 생성\n",
    "shop_install_m = shop_install2.copy()\n",
    "shop_install_m['month'] = shop_install_m['주문일자(연월)'].dt.to_period(\"M\")"
   ]
  },
  {
   "cell_type": "code",
   "execution_count": null,
   "id": "a207f19c",
   "metadata": {},
   "outputs": [],
   "source": [
    "shop_install_m"
   ]
  },
  {
   "cell_type": "code",
   "execution_count": null,
   "id": "e9daf2c1",
   "metadata": {},
   "outputs": [],
   "source": [
    "# 'month' 열을 기준으로 그룹화하고 판매금액을 합산\n",
    "shop_install_m2 = shop_install_m.groupby('month')['판매금액'].sum().reset_index()"
   ]
  },
  {
   "cell_type": "code",
   "execution_count": null,
   "id": "540383d0",
   "metadata": {},
   "outputs": [],
   "source": [
    "# xtick이 생략돼서 나와서 문자열로 고치기\n",
    "\n",
    "shop_install_m3 = shop_install_m2.copy()\n",
    "shop_install_m3['month'] = shop_install_m2['month'].apply(lambda x: str(x))"
   ]
  },
  {
   "cell_type": "code",
   "execution_count": null,
   "id": "2553a07c",
   "metadata": {},
   "outputs": [],
   "source": [
    "# 할부기간 고려 월별 판매금액 그래프\n",
    "\n",
    "import plotly.express as px\n",
    "\n",
    "# 억 원으로 판매금액 단위 변경\n",
    "shop_install_m3['판매금액(억원)'] = shop_install_m3['판매금액'] / 1e8\n",
    "\n",
    "fig = px.bar(shop_install_m3, x='month', y='판매금액(억원)',\n",
    "             labels={'판매금액(억원)': '판매금액(억원)', 'month': ''})\n",
    "fig.update_traces(marker_color='rgb(158,202,225)')\n",
    "\n",
    "# 그래프에 제목 추가\n",
    "fig.update_layout(title_text='월별 판매금액 그래프', title_x=0.5)\n",
    "\n",
    "fig.show()"
   ]
  },
  {
   "cell_type": "markdown",
   "id": "961b4f75",
   "metadata": {},
   "source": [
    "3. 결제 방법에 따른 분석"
   ]
  },
  {
   "cell_type": "code",
   "execution_count": null,
   "id": "81968ba7",
   "metadata": {},
   "outputs": [],
   "source": [
    "pay = df13.copy()"
   ]
  },
  {
   "cell_type": "code",
   "execution_count": null,
   "id": "080f8f21",
   "metadata": {},
   "outputs": [],
   "source": [
    "# 1% 표본 뽑아서 분석\n",
    "\n",
    "pay_rn = pay.sample(frac = 0.01)"
   ]
  },
  {
   "cell_type": "code",
   "execution_count": null,
   "id": "6b69f362",
   "metadata": {},
   "outputs": [],
   "source": [
    "plt.rcParams['font.family'] = 'Malgun Gothic'\n",
    "\n",
    "sns.scatterplot(x = pay_rn['결제방법'], y = pay_rn['판매금액'])\n",
    "plt.ylabel('판매금액(천만 원)')\n",
    "plt.xticks(rotation=45)\n",
    "plt.show()"
   ]
  },
  {
   "cell_type": "code",
   "execution_count": null,
   "id": "a420616a",
   "metadata": {},
   "outputs": [],
   "source": [
    "# 가설: 신용 거래가 현금 거래보다 거래금액이 클 것이다."
   ]
  },
  {
   "cell_type": "code",
   "execution_count": null,
   "id": "d0370e51",
   "metadata": {},
   "outputs": [],
   "source": [
    "sns.kdeplot(pay_rn['판매금액'])"
   ]
  },
  {
   "cell_type": "code",
   "execution_count": null,
   "id": "e8df7992",
   "metadata": {},
   "outputs": [],
   "source": [
    "pay2 = pay_rn.copy()\n",
    "pay2['판매금액_log2'] = np.log2(pay_rn['판매금액'])"
   ]
  },
  {
   "cell_type": "code",
   "execution_count": null,
   "id": "98265cff",
   "metadata": {},
   "outputs": [],
   "source": [
    "sns.kdeplot(pay2['판매금액_log2'])"
   ]
  },
  {
   "cell_type": "code",
   "execution_count": null,
   "id": "24b3bd4e",
   "metadata": {},
   "outputs": [],
   "source": [
    "# shapiro pvalue=1.476911539869839e-23 -> 정규성 만족 x\n",
    "\n",
    "stats.shapiro(pay2['판매금액_log2'])"
   ]
  },
  {
   "cell_type": "code",
   "execution_count": null,
   "id": "2aef38ef",
   "metadata": {},
   "outputs": [],
   "source": [
    "# 신용카드, 후불, 정기결제만 따로 payt에 저장\n",
    "\n",
    "payt = pay2.copy()\n",
    "\n",
    "target1 = ['신용카드', '후불', '정기결제']\n",
    "payt = pay2[pay2['결제방법'].apply(lambda x: True if x in target1 else False)]"
   ]
  },
  {
   "cell_type": "code",
   "execution_count": null,
   "id": "9d4931e7",
   "metadata": {},
   "outputs": [],
   "source": [
    "payt.결제방법.unique()"
   ]
  },
  {
   "cell_type": "code",
   "execution_count": null,
   "id": "1d70099f",
   "metadata": {},
   "outputs": [],
   "source": [
    "# payt의 신용여부 열에는 '신용' 표시\n",
    "\n",
    "payt['신용여부'] = '신용'"
   ]
  },
  {
   "cell_type": "code",
   "execution_count": null,
   "id": "74772a84",
   "metadata": {},
   "outputs": [],
   "source": [
    "# 현금, 포인트, 마일리지 등은 payc 에 저장\n",
    "\n",
    "payc = pay2[pay2['결제방법'].apply(lambda x: False if x in target1 else True)]"
   ]
  },
  {
   "cell_type": "code",
   "execution_count": null,
   "id": "4c17b311",
   "metadata": {},
   "outputs": [],
   "source": [
    "# payc의 신용여부 컬럼에는 '현금성' 표시\n",
    "\n",
    "payc['신용여부'] = '현금성'"
   ]
  },
  {
   "cell_type": "code",
   "execution_count": null,
   "id": "e1c284d2",
   "metadata": {},
   "outputs": [],
   "source": [
    "sns.kdeplot(payt['판매금액_log2'])\n",
    "sns.kdeplot(payc['판매금액_log2'])"
   ]
  },
  {
   "cell_type": "code",
   "execution_count": null,
   "id": "236cb42a",
   "metadata": {},
   "outputs": [],
   "source": [
    "# 신용 현금 합치기\n",
    "\n",
    "payct = pd.concat([payt, payc])"
   ]
  },
  {
   "cell_type": "code",
   "execution_count": null,
   "id": "11401c5c",
   "metadata": {},
   "outputs": [],
   "source": [
    "# 정규성 만족 안하므로 Mann-Whitney\n",
    "# pvalue=2.1255309268239036e-07\n",
    "\n",
    "stats.mannwhitneyu(payt['판매금액_log2'], payc['판매금액_log2'])"
   ]
  },
  {
   "cell_type": "code",
   "execution_count": null,
   "id": "4d24d17c",
   "metadata": {},
   "outputs": [],
   "source": [
    "# D: 입력할 데이터프레임 이름\n",
    "# col: x축 column 이름\n",
    "# val: y축 value 이름\n",
    "# group1, group2: col 기준으로 분류된 이름\n",
    "\n",
    "from statannot import add_stat_annotation\n",
    "\n",
    "def auto_test(D, col, val, group1, group2):\n",
    "    f1 = sns.boxplot(data = D, x = col, y = val)\n",
    "    f2 = sns.stripplot(data = D, x = col, y = val, color='k', alpha=0.1)\n",
    "    \n",
    "  \n",
    "    add_stat_annotation(f1, data = D, x = col, y = val,\n",
    "                        box_pairs=[((group1),(group2))], # [(().())] 형식\n",
    "                        test='Mann-Whitney', text_format='star', # 정규성 만족 안하므로 Mann-Whitney\n",
    "                        loc='inside', verbose=2) # verbose는 기준 출력.\n",
    " \n",
    "   \n",
    "    plt.xlabel('')\n",
    "    plt.ylabel('')\n",
    "        \n",
    "    plt.show()"
   ]
  },
  {
   "cell_type": "code",
   "execution_count": null,
   "id": "16a39aef",
   "metadata": {},
   "outputs": [],
   "source": [
    "# P_val=2.126e-07\n",
    "\n",
    "auto_test(payct, '신용여부', '판매금액_log2', '신용', '현금성')"
   ]
  }
 ],
 "metadata": {
  "kernelspec": {
   "display_name": "Python 3 (ipykernel)",
   "language": "python",
   "name": "python3"
  },
  "language_info": {
   "codemirror_mode": {
    "name": "ipython",
    "version": 3
   },
   "file_extension": ".py",
   "mimetype": "text/x-python",
   "name": "python",
   "nbconvert_exporter": "python",
   "pygments_lexer": "ipython3",
   "version": "3.11.5"
  }
 },
 "nbformat": 4,
 "nbformat_minor": 5
}
